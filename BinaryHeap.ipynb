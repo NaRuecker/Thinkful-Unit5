{
 "cells": [
  {
   "cell_type": "code",
   "execution_count": 171,
   "metadata": {},
   "outputs": [],
   "source": [
    "class Node:\n",
    "\n",
    "    def __init__(self, data):\n",
    "\n",
    "        self.left = None\n",
    "        self.right = None\n",
    "        self.data = data\n",
    "\n",
    "# Source: https://www.tutorialspoint.com/python/python_tree_traversal_algorithms.htm\n",
    "    def PrintTree(self):\n",
    "        print(self.data)\n",
    "    \n",
    "    def inorderTraversal(self,root):\n",
    "        res = []\n",
    "        if root:\n",
    "            res = self.inorderTraversal(root.left)\n",
    "            res.append(root.data)\n",
    "            res = res + self.inorderTraversal(root.right)\n",
    "        return res\n",
    "    \n",
    "    def DepthFirstTraversal(self,root):\n",
    "        res = []\n",
    "        if root:\n",
    "            res.append(root.data)\n",
    "            res = res + self.DepthFirstTraversal(root.left)\n",
    "            res = res + self.DepthFirstTraversal(root.right)\n",
    "        return res\n",
    "    \n",
    "    def PostorderTraversal(self,root):\n",
    "        res = []\n",
    "        if root:\n",
    "            res = self.PostorderTraversal(root.left)\n",
    "            res = res + self.PostorderTraversal(root.right)\n",
    "            res.append(root.data)\n",
    "        return res\n",
    "    \n",
    "     # Breadth traversal (Source:https://github.com/mhuh22/Thinkful/blob/master/Bootcamp/Unit%205/Lesson%201%20-%20Algorithms%20-%20Data%20Structures/Lesson%205.1.3.%20Trees.ipynb)\n",
    "    def BreadthFirstTraversal(root):\n",
    "        level = [root]\n",
    "        res=[]\n",
    "        while level:\n",
    "            nextlevel = list()\n",
    "            for self in level:\n",
    "                res.append(self.data)\n",
    "                if self.left: \n",
    "                    nextlevel.append(self.left)\n",
    "                if self.right: \n",
    "                    nextlevel.append(self.right)\n",
    "            level = nextlevel\n",
    "        return res"
   ]
  },
  {
   "cell_type": "code",
   "execution_count": 172,
   "metadata": {},
   "outputs": [],
   "source": [
    "# Establish the initial root node and children\n",
    "root = Node('1')\n",
    "root.val= 1000\n",
    "#root=Node('A', 1000) does not work __init___ only takes 2 arguments but 3 provided\n",
    "root.left = Node('2')\n",
    "root.right = Node('3')\n",
    "\n",
    "# Add the appropriate children for ‘B’ and ‘C’\n",
    "root.left.left = Node('4')\n",
    "root.left.right = Node('5')\n",
    "root.right.left = Node('6')\n",
    "root.right.right = Node('7')\n",
    "\n",
    "# Add the appropriate children for ‘B’ and ‘C’\n",
    "root.left.left.left = Node('8')\n",
    "root.left.left.right = Node('9')\n",
    "root.left.right.left = Node('10')\n",
    "root.left.right.right = Node('11')\n",
    "root.right.left.left = Node('12')\n",
    "root.right.left.right = Node('13')\n",
    "root.right.right.left = Node('14')\n",
    "root.right.right.right = Node('15')"
   ]
  },
  {
   "cell_type": "markdown",
   "metadata": {},
   "source": [
    "![Tree](Tree.jpg)"
   ]
  },
  {
   "cell_type": "code",
   "execution_count": 173,
   "metadata": {},
   "outputs": [
    {
     "name": "stdout",
     "output_type": "stream",
     "text": [
      "['1', '2', '3', '4', '5', '6', '7', '8', '9', '10', '11', '12', '13', '14', '15']\n"
     ]
    }
   ],
   "source": [
    "# Breadth First\n",
    "res=root.BreadthFirstTraversal()\n",
    "print(res)"
   ]
  },
  {
   "cell_type": "code",
   "execution_count": 175,
   "metadata": {},
   "outputs": [
    {
     "name": "stdout",
     "output_type": "stream",
     "text": [
      "['1', '2', '4', '8', '9', '5', '10', '11', '3', '6', '12', '13', '7', '14', '15']\n"
     ]
    }
   ],
   "source": [
    "# Depth First\n",
    "print(root.DepthFirstTraversal(root))"
   ]
  },
  {
   "cell_type": "code",
   "execution_count": 176,
   "metadata": {},
   "outputs": [
    {
     "name": "stdout",
     "output_type": "stream",
     "text": [
      "['8', '9', '4', '10', '11', '5', '2', '12', '13', '6', '14', '15', '7', '3', '1']\n"
     ]
    }
   ],
   "source": [
    "# Breadth First\n",
    "print(root.PostorderTraversal(root))"
   ]
  },
  {
   "cell_type": "code",
   "execution_count": 177,
   "metadata": {},
   "outputs": [
    {
     "name": "stdout",
     "output_type": "stream",
     "text": [
      "['8', '4', '9', '2', '10', '5', '11', '1', '12', '6', '13', '3', '14', '7', '15']\n"
     ]
    }
   ],
   "source": [
    "# Not sure if this is supposed to be like this\n",
    "print(root.inorderTraversal(root))"
   ]
  }
 ],
 "metadata": {
  "kernelspec": {
   "display_name": "Python 3",
   "language": "python",
   "name": "python3"
  },
  "language_info": {
   "codemirror_mode": {
    "name": "ipython",
    "version": 3
   },
   "file_extension": ".py",
   "mimetype": "text/x-python",
   "name": "python",
   "nbconvert_exporter": "python",
   "pygments_lexer": "ipython3",
   "version": "3.6.5"
  },
  "toc": {
   "base_numbering": 1,
   "nav_menu": {},
   "number_sections": true,
   "sideBar": true,
   "skip_h1_title": false,
   "title_cell": "Table of Contents",
   "title_sidebar": "Contents",
   "toc_cell": false,
   "toc_position": {},
   "toc_section_display": true,
   "toc_window_display": false
  },
  "varInspector": {
   "cols": {
    "lenName": 16,
    "lenType": 16,
    "lenVar": 40
   },
   "kernels_config": {
    "python": {
     "delete_cmd_postfix": "",
     "delete_cmd_prefix": "del ",
     "library": "var_list.py",
     "varRefreshCmd": "print(var_dic_list())"
    },
    "r": {
     "delete_cmd_postfix": ") ",
     "delete_cmd_prefix": "rm(",
     "library": "var_list.r",
     "varRefreshCmd": "cat(var_dic_list()) "
    }
   },
   "types_to_exclude": [
    "module",
    "function",
    "builtin_function_or_method",
    "instance",
    "_Feature"
   ],
   "window_display": false
  }
 },
 "nbformat": 4,
 "nbformat_minor": 2
}
